{
  "nbformat": 4,
  "nbformat_minor": 0,
  "metadata": {
    "colab": {
      "provenance": [],
      "toc_visible": true
    },
    "kernelspec": {
      "name": "python3",
      "display_name": "Python 3"
    },
    "language_info": {
      "name": "python"
    }
  },
  "cells": [
    {
      "cell_type": "markdown",
      "source": [
        "# Homework 2: Biogeography"
      ],
      "metadata": {
        "id": "F05W_4U1s3Jg"
      }
    },
    {
      "cell_type": "markdown",
      "source": [
        "#### **Please read the following instructions carefully before you continue.**\n",
        "\n",
        "This template notebook is for Homework 2, due Thursday, April 18th, 2024.\n",
        "\n",
        "To use this template, click `File` > `Save a copy in Drive`. You now have your own editable copy to which you can add your code. However, before you make changes, note that we've scaffolded this notebook to help get you started:\n",
        "\n",
        "- We've already written `import` statements for all the modules you should need. This week, you could feasibly do everything without importing any external modules; do whatever is most helpful for you.\n",
        "- We provide an introduction that lays out one potential approach for solving the problem, explaining what each logical \"chunk\" of your code ought to accomplish. You can use this as a starting point for writing your own code.  \n",
        "\n",
        "Of course, if you'd rather do your own thing, you are not required to follow the path we've laid out, or use the modules we've recommended. However, a few things _are_ required (refer to the [Intro to Colab](https://colab.research.google.com/drive/1fq_HaiuYb1L18uGcoA3eGs6taiUafR-6?usp=sharing) notebook):\n",
        "\n",
        "- _Literate style._ Dumping everything into a single, monstrous code cell is illegible and unacceptable. Remember to divide your code into reasonable, logical chunks, and to follow up each code cell with a text cell that explains and interprets the results.\n",
        "- _Comments._ That said, writing \"literate\" code is not an excuse to avoid writing comments :)\n",
        "- _Problem labels/numbers._ Please use text cells to clearly label where your solution to one problem ends, and the next begins.\n",
        "\n",
        "Remember that a human is going to read and grade your notebook, so it is in your best interest to help them understand your work clearly. Your finished solution to a given problem should flow coherently from one code cell to the next. (Our \"scaffold\" helps you do this!)\n",
        "\n",
        "If you get stuck, remember that [tutorials](https://bi1.caltech.edu/2024/tutorials) are held in-person each week. Also, note that in accordance with course policy, [the use of generative AI tools is forbidden](https://bi1.caltech.edu/2024/policies) unless otherwise specified."
      ],
      "metadata": {
        "id": "un9uDerZW6Qt"
      }
    },
    {
      "cell_type": "markdown",
      "source": [
        "---"
      ],
      "metadata": {
        "id": "P1qG5PeMZV7X"
      }
    },
    {
      "cell_type": "code",
      "source": [
        "import numpy as np  # numeric computing"
      ],
      "metadata": {
        "id": "JYA-RnWCaiPA"
      },
      "execution_count": null,
      "outputs": []
    },
    {
      "cell_type": "markdown",
      "source": [
        "---"
      ],
      "metadata": {
        "id": "5NjmrmdvaibF"
      }
    },
    {
      "cell_type": "markdown",
      "source": [
        "## Introduction"
      ],
      "metadata": {
        "id": "TwHJZJyUNC5A"
      }
    },
    {
      "cell_type": "markdown",
      "source": [
        "This week's code problem comes from Question 2a, which asks you to compare DNA sequence similarity between species of African grassland frogs.\n",
        "\n",
        "- First, you need to read in the text files we've provided, and store the sequences in a variable, list, or other data structure. This might start like\n",
        "```python\n",
        "with open(path_to_file) as file:  # read in one of the fasta files\n",
        "    for line in file:  # parse each line\n",
        "        # find sequences and extract them\n",
        "```\n",
        "\n",
        "- Then, you should define a function that accepts two DNA sequences and scores their similarity. This might start like\n",
        "```python\n",
        "def simDNA(seq1, seq2):\n",
        "    \"\"\"This is a function that computes a similarity score between two aligned DNA sequences.\"\"\"\n",
        "    # your code here\n",
        "```\n",
        "- After checking that it works as expected, you can then incorporate that function into a `for` loop (or perhaps several) that applies it to every group of sequences that the problem statement asks you to."
      ],
      "metadata": {
        "id": "GmlaCoQMNIUY"
      }
    },
    {
      "cell_type": "markdown",
      "source": [
        "## Question 2a"
      ],
      "metadata": {
        "id": "qziKM1-MZYks"
      }
    },
    {
      "cell_type": "markdown",
      "source": [
        "**_add** text and code cells here_"
      ],
      "metadata": {
        "id": "x8EUPDzGTfZx"
      }
    },
    {
      "cell_type": "markdown",
      "source": [],
      "metadata": {
        "id": "jDvGwwgdmiB_"
      }
    },
    {
      "cell_type": "markdown",
      "source": [],
      "metadata": {
        "id": "2PxpuBfgm30h"
      }
    },
    {
      "cell_type": "code",
      "source": [
        "#put main land frog into an array\n",
        "\n",
        "frog_3 = [];\n",
        "header = \"\";\n",
        "DNA = \"\";\n",
        "with open(\"island_frog_data.txt\") as file:\n",
        "  for line in file:\n",
        "    if line[0] == \">\":\n",
        "      if header != '':\n",
        "        frog_3.append([header, DNA]);\n",
        "        DNA = \"\";\n",
        "      header = line.strip(\"\\n\");\n",
        "    else:\n",
        "      DNA += line.strip(\"\\n\");\n",
        "  frog_3.append([header, DNA]);\n",
        "\n",
        "\n",
        "#put other frog data into the array\n",
        "frog_24 = [];\n",
        "header = \"\";\n",
        "DNA = \"\";\n",
        "with open(\"frog2data.txt\") as file:\n",
        "  for line in file:\n",
        "    if line[0] == \">\":\n",
        "      if header != '':\n",
        "        frog_24.append([header, DNA]);\n",
        "        DNA = \"\";\n",
        "      header = line.strip(\"\\n\");\n",
        "    else:\n",
        "      DNA += line.strip(\"\\n\");\n",
        "  frog_24.append([header, DNA]);\n",
        "\n",
        "\n",
        "#functin to find the score\n",
        "def score(data_one, data_two):\n",
        "\n",
        "  count = 0;\n",
        "  total = 0;\n",
        "\n",
        "  for i in range(len(data_one)):\n",
        "    if((data_one[i] != \"-\") and (data_two[i] != \"-\")):\n",
        "      total += 1;\n",
        "      if((data_one[i] == data_two[i])):\n",
        "        count += 1;\n",
        "\n",
        "  score = count / total;\n",
        "  return score;\n",
        "\n",
        "#finding the score of all frogs comapred\n",
        "\n",
        "compare_one = []\n",
        "for i in range(len(frog_24)):\n",
        "  number = score(frog_24[i][1], frog_3[0][1]);\n",
        "  compare_one.append([frog_24[i][0], number]);\n",
        "\n",
        "\n",
        "\n",
        "compare_two = []\n",
        "for i in range(len(frog_24)):\n",
        "  number = score(frog_24[i][1], frog_3[1][1]);\n",
        "  compare_two.append([frog_24[i][0], number]);\n",
        "\n",
        "\n",
        "\n",
        "\n",
        "compare_three = []\n",
        "for i in range(len(frog_24)):\n",
        "  number = score(frog_24[i][1], frog_3[2][1]);\n",
        "  compare_three.append([frog_24[i][0], number]);\n",
        "\n",
        "\n",
        "\n",
        "\n",
        "#finding max\n",
        "\n",
        "\n",
        "def max(list):\n",
        "  highest = 0;\n",
        "  highest_header = \"\";\n",
        "  top = [];\n",
        "\n",
        "  for num in range(len(list)):\n",
        "    if(list[num][1]> highest):\n",
        "      highest = list[num][1];\n",
        "      highest_header =list[num][0];\n",
        "\n",
        "  top.append([highest_header, highest])\n",
        "  return top;\n",
        "\n",
        "def topThree(list):\n",
        "  one = max(list)\n",
        "  print(one);\n",
        "  list.remove([one[0][0], one[0][1]]);\n",
        "  two = max(list)\n",
        "  print(two);\n",
        "  list.remove([two[0][0], two[0][1]]);\n",
        "  three = max(list);\n",
        "  print(three);\n",
        "\n",
        "\n",
        "#top 3 for frog one\n",
        "print(\"top three for frog one\")\n",
        "topThree(compare_one);\n",
        "\n",
        "#top 3 for frog two\n",
        "print(\"top three for frog two\")\n",
        "topThree(compare_two);\n",
        "\n",
        "print(\"Top three for frog 3\")\n",
        "topThree(compare_three);\n",
        "\n",
        "\n",
        "\n",
        "\n",
        "\n",
        "\n",
        "\n"
      ],
      "metadata": {
        "id": "a4nu_ruBJ84u",
        "colab": {
          "base_uri": "https://localhost:8080/"
        },
        "outputId": "9936e215-771c-4cbf-f877-f3a42a14d022"
      },
      "execution_count": null,
      "outputs": [
        {
          "output_type": "stream",
          "name": "stdout",
          "text": [
            "top three for frog one\n",
            "[['>Ptychadena nilotica, Tanzania, Kibebe farm', 0.950592885375494]]\n",
            "[['>Ptychadena nilotica, Uganda, Lake Victoria', 0.9483747609942639]]\n",
            "[['>Ptychadena nilotica, Kenya, Mt Kenya', 0.9464627151051626]]\n",
            "top three for frog two\n",
            "[['>Ptychadena nilotica, Tanzania, Kibebe farm', 0.950592885375494]]\n",
            "[['>Ptychadena nilotica, Uganda, Lake Victoria', 0.9486166007905138]]\n",
            "[['>Ptychadena nilotica, Kenya, Mt Kenya', 0.9466403162055336]]\n",
            "Top three for frog 3\n",
            "[['>Ptychadena nilotica, Tanzania, Kibebe farm', 0.950592885375494]]\n",
            "[['>Ptychadena nilotica, Uganda, Lake Victoria', 0.9483747609942639]]\n",
            "[['>Ptychadena nilotica, Kenya, Mt Kenya', 0.9464627151051626]]\n"
          ]
        }
      ]
    },
    {
      "cell_type": "markdown",
      "source": [
        "---"
      ],
      "metadata": {
        "id": "Du6YvQPETo-g"
      }
    },
    {
      "cell_type": "markdown",
      "source": [
        "### Submission instructions"
      ],
      "metadata": {
        "id": "aJAscGKQIAnj"
      }
    },
    {
      "cell_type": "markdown",
      "source": [
        "When you're finished, recall the steps for submitting Colab notebooks:\n",
        "\n",
        "1. Run all the cells from top-to-bottom, in order (`Runtime` > `Run all`).\n",
        "2. Once the entire notebook has completed running and the output of all cells is visible, save it (`File` > `Save`).\n",
        "3. Download the notebook in `.ipynb` format (`File` > `Download` > `Download .ipynb`).\n",
        "4. Rename the file according to the usual convention (`lastname_firstname_hw#.ipynb`), if you haven't already.\n",
        "5. Upload the file to Gradescope.\n"
      ],
      "metadata": {
        "id": "mNiIL0tcIE-S"
      }
    }
  ]
}