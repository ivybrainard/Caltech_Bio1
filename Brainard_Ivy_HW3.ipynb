{
  "nbformat": 4,
  "nbformat_minor": 0,
  "metadata": {
    "colab": {
      "provenance": []
    },
    "kernelspec": {
      "name": "python3",
      "display_name": "Python 3"
    },
    "language_info": {
      "name": "python"
    }
  },
  "cells": [
    {
      "cell_type": "markdown",
      "source": [
        "# Homework 3: Deep Time"
      ],
      "metadata": {
        "id": "F05W_4U1s3Jg"
      }
    },
    {
      "cell_type": "markdown",
      "source": [
        "#### **Please read the following instructions carefully before you continue.**\n",
        "\n",
        "This template notebook is for Homework 3, due Thursday, April 25th, 2024.\n",
        "\n",
        "To use this template, click `File` > `Save a copy in Drive`. You now have your own editable copy to which you can add your code. However, before you make changes, note that we've scaffolded this notebook to help get you started:\n",
        "\n",
        "- We've already written `import` statements for all the modules you should need. This week, you could feasibly do everything without importing any external modules; do whatever is most helpful for you.\n",
        "- We provide an introduction that lays out one potential approach for solving the problem, explaining what each logical \"chunk\" of your code ought to accomplish. You can use this as a starting point for writing your own code.  \n",
        "\n",
        "Of course, if you'd rather do your own thing, you are not required to follow the path we've laid out, or use the modules we've recommended. However, a few things _are_ required (refer to the [Intro to Colab](https://colab.research.google.com/drive/1fq_HaiuYb1L18uGcoA3eGs6taiUafR-6?usp=sharing) notebook):\n",
        "\n",
        "- _Literate style._ Dumping everything into a single, monstrous code cell is illegible and unacceptable. Remember to divide your code into reasonable, logical chunks, and to follow up each code cell with a text cell that explains and interprets the results.\n",
        "- _Comments._ That said, writing \"literate\" code is not an excuse to avoid writing comments :)\n",
        "- _Problem labels/numbers._ Please use text cells to clearly label where your solution to one problem ends, and the next begins.\n",
        "\n",
        "Remember that a human is going to read and grade your notebook, so it is in your best interest to help them understand your work clearly. Your finished solution to a given problem should flow coherently from one code cell to the next. (Our \"scaffold\" helps you do this!)\n",
        "\n",
        "If you get stuck, remember that [tutorials](https://bi1.caltech.edu/2024/tutorials) are held in-person each week. Also, note that in accordance with course policy, [the use of generative AI tools is forbidden](https://bi1.caltech.edu/2024/policies) unless otherwise specified."
      ],
      "metadata": {
        "id": "neZRhXtu9gB6"
      }
    },
    {
      "cell_type": "markdown",
      "source": [
        "---"
      ],
      "metadata": {
        "id": "faAEo_dw9gB_"
      }
    },
    {
      "cell_type": "code",
      "source": [
        "# numeric computing\n",
        "import numpy as np\n",
        "\n",
        "# access files from your Google Drive\n",
        "from google.colab import drive\n",
        "drive.mount('/content/drive')"
      ],
      "metadata": {
        "id": "JYA-RnWCaiPA",
        "colab": {
          "base_uri": "https://localhost:8080/"
        },
        "outputId": "5c7ef526-c738-4fc1-acc6-233e2b5285e7"
      },
      "execution_count": null,
      "outputs": [
        {
          "output_type": "stream",
          "name": "stdout",
          "text": [
            "Mounted at /content/drive\n"
          ]
        }
      ]
    },
    {
      "cell_type": "markdown",
      "source": [
        "---"
      ],
      "metadata": {
        "id": "4tzbPImd9gCC"
      }
    },
    {
      "cell_type": "markdown",
      "source": [
        "## Introduction"
      ],
      "metadata": {
        "id": "a23R34mN9gCD"
      }
    },
    {
      "cell_type": "markdown",
      "source": [
        "This week's code comes from Question 2b and 2d, which ask you to compare DNA sequence similarity between Galapagos giant tortoises. If this sounds very similar to the challenge we gave you last week (when comparing frog sequences), that's because it is!\n",
        "\n",
        "**Feel free to re-use any of the code you wrote last week as you see fit.** Obviously, you should still take care to thoroughly comment on your approach, adjust variable names where relevant, and surround each code cell with explanatory text.\n",
        "\n",
        "\n",
        "- First, you need to read in the text files we've provided, and store the sequences in a variable, list, or other data structure. Assuming you've downloaded them and placed a copy in your Google Drive, this might start like:"
      ],
      "metadata": {
        "id": "pTT7IxmL9gCE"
      }
    },
    {
      "cell_type": "code",
      "source": [
        "with open(\"/content/drive/My Drive/path/to/file\", \"r\") as f:  # read in one of the fasta files\n",
        "    for line in f:  # parse each line\n",
        "        # processing"
      ],
      "metadata": {
        "id": "KwP0aaDljwEF"
      },
      "execution_count": null,
      "outputs": []
    },
    {
      "cell_type": "markdown",
      "source": [
        "- Then, you should define a function that accepts two DNA sequences and scores their similarity. This might start like:"
      ],
      "metadata": {
        "id": "zErqRfzIj3kx"
      }
    },
    {
      "cell_type": "code",
      "source": [
        "def simDNA(seq1, seq2):\n",
        "    \"\"\"This is a function that computes a similarity score between two aligned DNA sequences.\"\"\"\n",
        "    # your code here"
      ],
      "metadata": {
        "id": "A1OIaxVdj384"
      },
      "execution_count": null,
      "outputs": []
    },
    {
      "cell_type": "markdown",
      "source": [
        "- After checking that it works as expected, you can then incorporate that function into a `for` loop (or perhaps several) that applies it to every group of sequences that the problem statement asks you to."
      ],
      "metadata": {
        "id": "HYm5INNxj-c0"
      }
    },
    {
      "cell_type": "markdown",
      "source": [
        "---"
      ],
      "metadata": {
        "id": "5NjmrmdvaibF"
      }
    },
    {
      "cell_type": "markdown",
      "source": [
        "## Introduction"
      ],
      "metadata": {
        "id": "TwHJZJyUNC5A"
      }
    },
    {
      "cell_type": "markdown",
      "source": [
        "## Question 2b"
      ],
      "metadata": {
        "id": "qziKM1-MZYks"
      }
    },
    {
      "cell_type": "code",
      "source": [
        "turtle = [];\n",
        "header = \"\";\n",
        "DNA = \"\";\n",
        "with open(\"turtleData.txt\") as file:\n",
        "  for line in file:\n",
        "    if line[0] == \">\":\n",
        "      if header != '':\n",
        "        turtle.append([header, DNA]);\n",
        "        DNA = \"\";\n",
        "      header = line.strip(\"\\n\");\n",
        "    else:\n",
        "      DNA += line.strip(\"\\n\");\n",
        "  turtle.append([header, DNA]);\n",
        "\n",
        "  print(turtle);\n",
        "\n",
        "\n",
        "#putting each turtle to its own seq\n",
        "\n",
        "turtle_one = [(turtle[0][0], turtle[0][1])]\n",
        "turtle_two = [(turtle[1][0], turtle[1][1])]\n",
        "turtle_three = [(turtle[2][0], turtle[2][1])]\n",
        "turtle_four = [(turtle[3][0], turtle[3][1])]\n",
        "turtle_five = [(turtle[4][0], turtle[4][1])]\n",
        "\n",
        "\n",
        "#function to get score\n",
        "def score(data_one, data_two):\n",
        "  count = 0;\n",
        "  one_data = data_one[0][1];\n",
        "  two_data = data_two[0][1];\n",
        "\n",
        "  for i in range(len(one_data)):\n",
        "    if((one_data[i] != \"-\") and (two_data[i] != \"-\")):\n",
        "      if(one_data[i] != two_data[i]):\n",
        "        count += 1;\n",
        "\n",
        "  return count;\n",
        "\n",
        "#1,2 1,3 1,4 1,5: 2,3 2,4 2,5: 3,4 3,5: 4,5:\n",
        "\n",
        "\n",
        "#1,2\n",
        "print(turtle[0][0] + \"compared with \" + turtle[1][0] + \": \");\n",
        "print(score(turtle_one, turtle_two));\n",
        "\n",
        "#1,3\n",
        "print(turtle[0][0] + \"compared with \" + turtle[2][0] + \": \");\n",
        "print(score(turtle_one, turtle_three));\n",
        "\n",
        "#1,4\n",
        "print(turtle[0][0] + \"compared with \" + turtle[3][0] + \": \");\n",
        "print(score(turtle_one, turtle_four));\n",
        "\n",
        "#1,5\n",
        "print(turtle[0][0] + \"compared with \" + turtle[4][0] + \": \");\n",
        "print(score(turtle_one, turtle_five));\n",
        "\n",
        "print();\n",
        "\n",
        "#2,3\n",
        "print(turtle[1][0] + \"compared with \" + turtle[2][0] + \": \");\n",
        "print(score(turtle_three, turtle_two));\n",
        "\n",
        "#2,4\n",
        "print(turtle[1][0] + \"compared with \" + turtle[3][0] + \": \");\n",
        "print(score(turtle_four, turtle_two));\n",
        "\n",
        "#2,5\n",
        "print(turtle[1][0] + \"compared with \" + turtle[4][0] + \": \");\n",
        "print(score(turtle_five, turtle_two));\n",
        "\n",
        "print()\n",
        "\n",
        "#3,4\n",
        "print(turtle[2][0] + \"compared with \" + turtle[3][0] + \": \");\n",
        "print(score(turtle_three, turtle_four));\n",
        "\n",
        "#3,5\n",
        "print(turtle[2][0] + \"compared with \" + turtle[4][0] + \": \");\n",
        "print(score(turtle_three, turtle_five));\n",
        "\n",
        "print()\n",
        "\n",
        "#4,5\n",
        "print(turtle[3][0] + \"compared with \" + turtle[4][0] + \": \");\n",
        "print(score(turtle_four, turtle_five));\n",
        "\n",
        "\n",
        "\n",
        "\n",
        "\n",
        "\n",
        "\n",
        "\n"
      ],
      "metadata": {
        "colab": {
          "base_uri": "https://localhost:8080/"
        },
        "id": "0vOdAbJWQPDt",
        "outputId": "f82696c3-9125-4110-a588-7532c7262299"
      },
      "execution_count": 3,
      "outputs": [
        {
          "output_type": "stream",
          "name": "stdout",
          "text": [
            "[['>Wolf_Isabela AF548228.1', 'TTTCCTAGAATAATCAAAAGAGAAAGACTTAAACCTTCATCCCCGGCCCCCAAAACCGGAATCTTCATTAAACTACCTTTTGACAAACACACCAAATACCTCTACCCTGCCCAGTAGAAAGAAATGACAACGTACACTCTATGTATTATCTTACATTCATTTATTTGCCACTAGCATATCACCAGTAATATTACTGCTTAATTTTATTAAAGACATAGCTGGGATTAATTTGACAGGTAAATTCTTAATTGACAGTAATGTGTCTGGGTAATGTTAAATTAATGGTTTCAGGACATAGGCTTAAATAATCTCTTGCATGACATGGATCTGGTTACAGTATTAGGTTATCTCTTAATTTGACTGATCACGAGAAATAAGCAATTCTTGTTAGATAAGATACTAAGTTACTAGTTTCAAGCCCATACAGTGATGACGTACATAACTGATCTATTCTGGCCTTTGGTTGTTTTGTCAAGCACATAAGATTAATAAAGTTCATTCGTTCCTCTTTAAAAGGCCTCTGGTTAATGTGTTCTATACATTAAATTTATAACCTGGCATTTCATGTCTTAGGCACATATATTTAGCTCTTTTTTCTCTTTCTGTTTTCAGACCCACATACCTGATGTCACCGATTAACTGAAACTGGACCTACATTCAGATTGATTGATCTTGCAAGATTTGATATGGTATTATTAAGTT'], ['>Darwin_Isabela AF548230.1', 'TTTCCTAGAATAATCAAAAGAGAAAGACTTAAACCTTCATCCCCGGCCCCCAAAACCGGAATCTTCATTAAACTACCTTTTGACAAACACACCAAATACCTCTACCTCGCCCAGCAGAAAGAAATGACAACGTACACTCTATGTATTATCTTACATTCATTTATTTGCCACTAGCATATCACCAGTAATATTACTGCTTAATTTTATTAAAGACATAACTAGAATTGATTTGGCAGATAA-TTTTTAGCTGACAGTAATGTGTCTAGGTGATGTTAGATTAATGGTTTCAGAACATAAACTTAAATAATCTCTCGCATAACATGGATTTGGTCACAGTATTGGATTATCTCTTAATTTGACTGGTCACGAGAAATAAGCAATCCTTGTTAGATAAGATACTAAGTTACTAGTTTCAAGCCCATACAGTGATGGCGTACATAACTGATTTATTCTGGCCTTTGGTTGTTTTGTCAAGCACATAAGACTAATAAAGTCCATTCGTTCCTCTTTAAAAGGCCTCTGGTTAATGTGTTCTATACATTAAATTTATAACCTGGCATTTCATGTCTTAGGCACATATATTTAGCTCTTTTTTCTCTTTCTGTTTTCAGACCCACATACCTGATGTCACCGATTAACTGAAACTGGACCCACATTCAGATTGATTGATCTTGCAAGATTTGATATGGTATTATTAAGTT'], ['>Alcedo_Isabela AF548264.1', 'TTTCCTAGAATAATCAAAAGAGAAAGACTTAAACCTTCATCCCCGGCCCCCAAAACCGGAATCTTCATTAAACTACCTTTTGACAAACACACCAAATACCTCTACCTCGCCCAGCAGAAAGAAATGACAACGTACACTCTATGTATTATCTTACATTCATTTATTTACCACTAGCATATCACCAGTAATATTACTGCTTAATTTTATTAAAGACATAACTAGAATTGATTTGGCAGATAA-TTTTTAGCTGACAGTAATGTGTCTAGGTGATGTTAGATTAATGGTTTCAGAACATAAACTTAAATAATCTCTCGCATAACATGGATTTGGTCACAGTATTGGATTATCTCTTAATTTGACTGGTCACGAGAAATAAGCAATCCTTGTTAGATAAGATACTAAGTTACTAGTTTCAAGCCCATACAGTGATGACGTACATAACTGATTTATTCTGGCCTTTGGTTGTTTTGTCAAGCACATAAGACTAATAAAGTCCATTCGTTCCTCTTTAAAAGGCCTCTGGTTAATGTGTTCTATACATTAAATTTATAACCTGGCATTTCATGTCTTAGGCACATATATTTAGCTCTTTTTTCTCTTTCTGTTTTCAGACCCACATACCTGATGTCACCGATTAACTGAAACTGGACCCACATTCAGATTGATTGATCTTGCAAGATTTGATATGGTATTATTAAGTT'], ['>Sierra_Negra_Isabela AF548232.1', 'TTTCCTAGAATAATCAAAAGAGAAAGACTTAAACCTTCATCCCCGGCCCCCAAAACCGGAATCTTCATTAAACTACCTTTTGACAAACACACCAAATACCTCTACCTCGCCCAGCAGAAAGAAATGACAACGTACACTCTATGTATTATCTTACATTCATTTATTTACCACTAGCATATCACCAGTAATATTACTGCTTAATTTTATTAAAGACATAACTAGAATTGATTTGGCAGATAA-TTCTTAGCTGACAGTAATGTGTCTAGGTAATGTTAGATTAATGGTTTCAGAACATAAACTTAAATAATCTCTTGCATAACATGAATTTGGTCACAGTATTGGATTATCTCTTAATTTGACTGGTCACGAGAAATAAGCAATCCTTGTTAGATAAGATACTAAGTTACTAGTTTCAAGCCCATACAGTGATGACGTACATAACTGATCTATTCTGGCCTTTGGTTGTTTTGTCAAGCACATAAGACTAATAAAGTCCATTCGTTCCTCTTTAAAAGGCCTCTGGTTAATGTGTTCTATACATTAAATTTATAACCTGGCATTTCATGTCTTAGGCACATATATTTAGCTCTTTTTTCTCTTTCTGTTTTCAGACCCACATACCTGATGTCACCGATTAACTGAAACTGGACCCACATTCAGATTGATTGATCTTGCAAGATTTGATATGGTATTATTAAGTT'], ['>Cerro_Azul_Isabela AF548237.1', 'TTTCCTAGAATAATCAAAAGAGAAAGACTTAAACCTTCATCCCCGGCCCCCAAAACCGGAATCTTCATTAAACTACCTTTTGACAAACACACCAAATACCTCTACCTCGCCCAGCAGAAAGAAATGACAACGTACACTCTATGTATTATCTTACATTCATTTATTTACCGCTAGCATATCACCAGTAATATTACCGCTTAATTTTATTAAAGACATAACTAGAATTGATTTGGCAGATAA-TTCTTAGCTGACAGTAATGTGTCTAGGTAATGTTAGATTAATGGTTTCAGAACATAAACTTAAATAATCTCTTGCATAACATGAATTTGGTCACAGTATTGGACTATCTCTTAATTTGACTGGTCACGAGAAATAAGCAATCCTTGTTAGATAAGATACTAAGTTACTAGTTTCAAGCCCATACAGTGATGGCGTACATAACTGATCTATTCTGGCCTTTGGTTGTTTTGTCAAGCACATAAGACTAATAAAGTCCATTCGTTCCTCTTTAAAAGGCCTCTGGTTAATGTGTTCTATACATTAAATTTATAACCTGGCATTTCATGTCTTAGGCACATATATTTAGCTCTTTTTTCTCTTTCTGTTTTCAGACCCACATACCTGATGTCACCGATTAACTGAAACTGGACCCACATTCAGATTGATTGATCTTGCAAGATTTGATATGGTATTATTAAGTT']]\n",
            ">Wolf_Isabela AF548228.1compared with >Darwin_Isabela AF548230.1: \n",
            "31\n",
            ">Wolf_Isabela AF548228.1compared with >Alcedo_Isabela AF548264.1: \n",
            "31\n",
            ">Wolf_Isabela AF548228.1compared with >Sierra_Negra_Isabela AF548232.1: \n",
            "28\n",
            ">Wolf_Isabela AF548228.1compared with >Cerro_Azul_Isabela AF548237.1: \n",
            "32\n",
            "\n",
            ">Darwin_Isabela AF548230.1compared with >Alcedo_Isabela AF548264.1: \n",
            "2\n",
            ">Darwin_Isabela AF548230.1compared with >Sierra_Negra_Isabela AF548232.1: \n",
            "7\n",
            ">Darwin_Isabela AF548230.1compared with >Cerro_Azul_Isabela AF548237.1: \n",
            "9\n",
            "\n",
            ">Alcedo_Isabela AF548264.1compared with >Sierra_Negra_Isabela AF548232.1: \n",
            "5\n",
            ">Alcedo_Isabela AF548264.1compared with >Cerro_Azul_Isabela AF548237.1: \n",
            "9\n",
            "\n",
            ">Sierra_Negra_Isabela AF548232.1compared with >Cerro_Azul_Isabela AF548237.1: \n",
            "4\n"
          ]
        }
      ]
    },
    {
      "cell_type": "markdown",
      "source": [
        "## Question 2d"
      ],
      "metadata": {
        "id": "XDAAlNUxm8IT"
      }
    },
    {
      "cell_type": "markdown",
      "source": [
        "_add text and code cells here_"
      ],
      "metadata": {
        "id": "dBNfvIYxm9Qv"
      }
    },
    {
      "cell_type": "code",
      "source": [
        "wolf = [];\n",
        "header = \"\";\n",
        "DNA = \"\";\n",
        "with open(\"wolf_data.txt\") as file:\n",
        "  for line in file:\n",
        "    if line[0] == \">\":\n",
        "      if header != '':\n",
        "        wolf.append([header, DNA]);\n",
        "        DNA = \"\";\n",
        "      header = line.strip(\"\\n\");\n",
        "    else:\n",
        "      DNA += line.strip(\"\\n\");\n",
        "  wolf.append([header, DNA]);\n",
        "\n",
        "  print(wolf);\n",
        "\n",
        "\n",
        "#putting each turtle to its own seq\n",
        "\n",
        "wolf_one = [(wolf[0][0], wolf[0][1])]\n",
        "wolf_two = [(wolf[1][0], wolf[1][1])]\n",
        "wolf_three = [(wolf[2][0], wolf[2][1])]\n",
        "wolf_four = [(wolf[3][0], wolf[3][1])]\n",
        "wolf_five = [(wolf[4][0], wolf[4][1])]\n",
        "\n",
        "\n",
        "#function to get score\n",
        "def score(data_one, data_two):\n",
        "  count = 0;\n",
        "  one_data = data_one[0][1];\n",
        "  two_data = data_two[0][1];\n",
        "\n",
        "  for i in range(len(data_one)):\n",
        "    if((one_data[i] != \"-\") and (two_data[i] != \"-\")):\n",
        "      if(one_data[i] != two_data[i]):\n",
        "        count += 1;\n",
        "\n",
        "  return count;\n",
        "\n",
        "#1,2 1,3 1,4 1,5: 2,3 2,4 2,5: 3,4 3,5: 4,5:\n",
        "\n",
        "\n",
        "#1,2\n",
        "print(wolf[0][0] + \"compared with \" + wolf[1][0] + \": \");\n",
        "print(score(wolf_one, wolf_two));\n",
        "\n",
        "#1,3\n",
        "print(wolf[0][0] + \"compared with \" + wolf[2][0] + \": \");\n",
        "print(score(wolf_one, wolf_three));\n",
        "\n",
        "#1,4\n",
        "print(wolf[0][0] + \"compared with \" + wolf[3][0] + \": \");\n",
        "print(score(wolf_one, wolf_four));\n",
        "\n",
        "#1,5\n",
        "print(wolf[0][0] + \"compared with \" + wolf[4][0] + \": \");\n",
        "print(score(wolf_one, wolf_five));\n",
        "\n",
        "print()\n",
        "\n",
        "#2,3\n",
        "print(wolf[1][0] + \"compared with \" + wolf[2][0] + \": \");\n",
        "print(score(wolf_three, wolf_two));\n",
        "\n",
        "#2,4\n",
        "print(wolf[1][0] + \"compared with \" + wolf[3][0] + \": \");\n",
        "print(score(wolf_four, wolf_two));\n",
        "\n",
        "#2,5\n",
        "print(wolf[1][0] + \"compared with \" + wolf[4][0] + \": \");\n",
        "print(score(wolf_five, wolf_two));\n",
        "\n",
        "\n",
        "print();\n",
        "\n",
        "#3,4\n",
        "print(wolf[2][0] + \"compared with \" + wolf[3][0] + \": \");\n",
        "print(score(wolf_three, wolf_four));\n",
        "\n",
        "#3,5\n",
        "print(wolf[2][0] + \"compared with \" + wolf[4][0] + \": \");\n",
        "print(score(wolf_three, wolf_five));\n",
        "\n",
        "print();\n",
        "\n",
        "#4,5\n",
        "print(wolf[3][0] + \"compared with \" + wolf[4][0] + \": \");\n",
        "print(score(wolf_four, wolf_five));\n",
        "\n",
        "\n"
      ],
      "metadata": {
        "colab": {
          "base_uri": "https://localhost:8080/"
        },
        "id": "2Hwe9KRuiY25",
        "outputId": "62be11d1-ae95-4138-f82c-276dc7fda7a6"
      },
      "execution_count": 4,
      "outputs": [
        {
          "output_type": "stream",
          "name": "stdout",
          "text": [
            "[['>Wolf_Isabela AF548228.1', 'TTTCCTAGAATAATCAAAAGAGAAAGACTTAAACCTTCATCCCCGGCCCCCAAAACCGGAATCTTCATTAAACTACCTTTTGACAAACACACCAAATACCTCTACCCTGCCCAGTAGAAAGAAATGACAACGTACACTCTATGTATTATCTTACATTCATTTATTTGCCACTAGCATATCACCAGTAATATTACTGCTTAATTTTATTAAAGACATAGCTGGGATTAATTTGACAGGTAAATTCTTAATTGACAGTAATGTGTCTGGGTAATGTTAAATTAATGGTTTCAGGACATAGGCTTAAATAATCTCTTGCATGACATGGATCTGGTTACAGTATTAGGTTATCTCTTAATTTGACTGATCACGAGAAATAAGCAATTCTTGTTAGATAAGATACTAAGTTACTAGTTTCAAGCCCATACAGTGATGACGTACATAACTGATCTATTCTGGCCTTTGGTTGTTTTGTCAAGCACATAAGATTAATAAAGTTCATTCGTTCCTCTTTAAAAGGCCTCTGGTTAATGTGTTCTATACATTAAATTTATAACCTGGCATTTCATGTCTTAGGCACATATATTTAGCTCTTTTTTCTCTTTCTGTTTTCAGACCCACATACCTGATGTCACCGATTAACTGAAACTGGACCTACATTCAGATTGATTGATCTTGCAAGATTTGATATGGTATTATTAAGTT'], ['>Darwin_Isabela AF548230.1', 'TTTCCTAGAATAATCAAAAGAGAAAGACTTAAACCTTCATCCCCGGCCCCCAAAACCGGAATCTTCATTAAACTACCTTTTGACAAACACACCAAATACCTCTACCTCGCCCAGCAGAAAGAAATGACAACGTACACTCTATGTATTATCTTACATTCATTTATTTGCCACTAGCATATCACCAGTAATATTACTGCTTAATTTTATTAAAGACATAACTAGAATTGATTTGGCAGATAA-TTTTTAGCTGACAGTAATGTGTCTAGGTGATGTTAGATTAATGGTTTCAGAACATAAACTTAAATAATCTCTCGCATAACATGGATTTGGTCACAGTATTGGATTATCTCTTAATTTGACTGGTCACGAGAAATAAGCAATCCTTGTTAGATAAGATACTAAGTTACTAGTTTCAAGCCCATACAGTGATGGCGTACATAACTGATTTATTCTGGCCTTTGGTTGTTTTGTCAAGCACATAAGACTAATAAAGTCCATTCGTTCCTCTTTAAAAGGCCTCTGGTTAATGTGTTCTATACATTAAATTTATAACCTGGCATTTCATGTCTTAGGCACATATATTTAGCTCTTTTTTCTCTTTCTGTTTTCAGACCCACATACCTGATGTCACCGATTAACTGAAACTGGACCCACATTCAGATTGATTGATCTTGCAAGATTTGATATGGTATTATTAAGTT'], ['>Alcedo_Isabela AF548264.1', 'TTTCCTAGAATAATCAAAAGAGAAAGACTTAAACCTTCATCCCCGGCCCCCAAAACCGGAATCTTCATTAAACTACCTTTTGACAAACACACCAAATACCTCTACCTCGCCCAGCAGAAAGAAATGACAACGTACACTCTATGTATTATCTTACATTCATTTATTTACCACTAGCATATCACCAGTAATATTACTGCTTAATTTTATTAAAGACATAACTAGAATTGATTTGGCAGATAA-TTTTTAGCTGACAGTAATGTGTCTAGGTGATGTTAGATTAATGGTTTCAGAACATAAACTTAAATAATCTCTCGCATAACATGGATTTGGTCACAGTATTGGATTATCTCTTAATTTGACTGGTCACGAGAAATAAGCAATCCTTGTTAGATAAGATACTAAGTTACTAGTTTCAAGCCCATACAGTGATGACGTACATAACTGATTTATTCTGGCCTTTGGTTGTTTTGTCAAGCACATAAGACTAATAAAGTCCATTCGTTCCTCTTTAAAAGGCCTCTGGTTAATGTGTTCTATACATTAAATTTATAACCTGGCATTTCATGTCTTAGGCACATATATTTAGCTCTTTTTTCTCTTTCTGTTTTCAGACCCACATACCTGATGTCACCGATTAACTGAAACTGGACCCACATTCAGATTGATTGATCTTGCAAGATTTGATATGGTATTATTAAGTT'], ['>Sierra_Negra_Isabela AF548232.1', 'TTTCCTAGAATAATCAAAAGAGAAAGACTTAAACCTTCATCCCCGGCCCCCAAAACCGGAATCTTCATTAAACTACCTTTTGACAAACACACCAAATACCTCTACCTCGCCCAGCAGAAAGAAATGACAACGTACACTCTATGTATTATCTTACATTCATTTATTTACCACTAGCATATCACCAGTAATATTACTGCTTAATTTTATTAAAGACATAACTAGAATTGATTTGGCAGATAA-TTCTTAGCTGACAGTAATGTGTCTAGGTAATGTTAGATTAATGGTTTCAGAACATAAACTTAAATAATCTCTTGCATAACATGAATTTGGTCACAGTATTGGATTATCTCTTAATTTGACTGGTCACGAGAAATAAGCAATCCTTGTTAGATAAGATACTAAGTTACTAGTTTCAAGCCCATACAGTGATGACGTACATAACTGATCTATTCTGGCCTTTGGTTGTTTTGTCAAGCACATAAGACTAATAAAGTCCATTCGTTCCTCTTTAAAAGGCCTCTGGTTAATGTGTTCTATACATTAAATTTATAACCTGGCATTTCATGTCTTAGGCACATATATTTAGCTCTTTTTTCTCTTTCTGTTTTCAGACCCACATACCTGATGTCACCGATTAACTGAAACTGGACCCACATTCAGATTGATTGATCTTGCAAGATTTGATATGGTATTATTAAGTT'], ['>Cerro_Azul_Isabela AF548237.1', 'TTTCCTAGAATAATCAAAAGAGAAAGACTTAAACCTTCATCCCCGGCCCCCAAAACCGGAATCTTCATTAAACTACCTTTTGACAAACACACCAAATACCTCTACCTCGCCCAGCAGAAAGAAATGACAACGTACACTCTATGTATTATCTTACATTCATTTATTTACCGCTAGCATATCACCAGTAATATTACCGCTTAATTTTATTAAAGACATAACTAGAATTGATTTGGCAGATAA-TTCTTAGCTGACAGTAATGTGTCTAGGTAATGTTAGATTAATGGTTTCAGAACATAAACTTAAATAATCTCTTGCATAACATGAATTTGGTCACAGTATTGGACTATCTCTTAATTTGACTGGTCACGAGAAATAAGCAATCCTTGTTAGATAAGATACTAAGTTACTAGTTTCAAGCCCATACAGTGATGGCGTACATAACTGATCTATTCTGGCCTTTGGTTGTTTTGTCAAGCACATAAGACTAATAAAGTCCATTCGTTCCTCTTTAAAAGGCCTCTGGTTAATGTGTTCTATACATTAAATTTATAACCTGGCATTTCATGTCTTAGGCACATATATTTAGCTCTTTTTTCTCTTTCTGTTTTCAGACCCACATACCTGATGTCACCGATTAACTGAAACTGGACCCACATTCAGATTGATTGATCTTGCAAGATTTGATATGGTATTATTAAGTT']]\n",
            ">Wolf_Isabela AF548228.1compared with >Darwin_Isabela AF548230.1: \n",
            "0\n",
            ">Wolf_Isabela AF548228.1compared with >Alcedo_Isabela AF548264.1: \n",
            "0\n",
            ">Wolf_Isabela AF548228.1compared with >Sierra_Negra_Isabela AF548232.1: \n",
            "0\n",
            ">Wolf_Isabela AF548228.1compared with >Cerro_Azul_Isabela AF548237.1: \n",
            "0\n",
            "\n",
            ">Darwin_Isabela AF548230.1compared with >Alcedo_Isabela AF548264.1: \n",
            "0\n",
            ">Darwin_Isabela AF548230.1compared with >Sierra_Negra_Isabela AF548232.1: \n",
            "0\n",
            ">Darwin_Isabela AF548230.1compared with >Cerro_Azul_Isabela AF548237.1: \n",
            "0\n",
            "\n",
            ">Alcedo_Isabela AF548264.1compared with >Sierra_Negra_Isabela AF548232.1: \n",
            "0\n",
            ">Alcedo_Isabela AF548264.1compared with >Cerro_Azul_Isabela AF548237.1: \n",
            "0\n",
            "\n",
            ">Sierra_Negra_Isabela AF548232.1compared with >Cerro_Azul_Isabela AF548237.1: \n",
            "0\n"
          ]
        }
      ]
    },
    {
      "cell_type": "markdown",
      "source": [
        "---"
      ],
      "metadata": {
        "id": "Du6YvQPETo-g"
      }
    },
    {
      "cell_type": "markdown",
      "source": [
        "### Submission instructions"
      ],
      "metadata": {
        "id": "aJAscGKQIAnj"
      }
    },
    {
      "cell_type": "markdown",
      "source": [
        "When you're finished, recall the steps for submitting Colab notebooks:\n",
        "\n",
        "1. Run all the cells from top-to-bottom, in order (`Runtime` > `Run all`).\n",
        "2. Once the entire notebook has completed running and the output of all cells is visible, save it (`File` > `Save`).\n",
        "3. Download the notebook in `.ipynb` format (`File` > `Download` > `Download .ipynb`).\n",
        "4. Rename the file according to the usual convention (`lastname_firstname_hw#.ipynb`), if you haven't already.\n",
        "5. Upload the file to Gradescope.\n"
      ],
      "metadata": {
        "id": "mNiIL0tcIE-S"
      }
    }
  ]
}